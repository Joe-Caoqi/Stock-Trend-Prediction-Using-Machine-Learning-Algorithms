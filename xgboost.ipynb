{
 "cells": [
  {
   "cell_type": "markdown",
   "metadata": {},
   "source": [
    "# CIS520 Project \n",
    "## Part 2 - Model Selection XGBoost Model\n",
    "**Notes**\n",
    "* normalization by sklearn MinMaxScaler\n",
    "* PCA analysis and dimension reduction\n",
    "* XGBoost Model, parameter search"
   ]
  },
  {
   "cell_type": "code",
   "execution_count": 3,
   "metadata": {},
   "outputs": [],
   "source": [
    "import pandas as pd\n",
    "import numpy as np\n",
    "import sqlite3\n",
    "from matplotlib import pyplot as plt\n",
    "from scipy.stats import uniform, randint\n",
    "from sklearn.preprocessing import MinMaxScaler,StandardScaler\n",
    "from sklearn.model_selection import train_test_split\n",
    "from sklearn.decomposition import PCA\n",
    "from sklearn.svm import SVC\n",
    "from sklearn.metrics import auc, accuracy_score, confusion_matrix, mean_squared_error\n",
    "from sklearn.model_selection import cross_validate,cross_val_score, GridSearchCV, KFold, RandomizedSearchCV, train_test_split\n",
    "import xgboost as xgb   # pip install xgboost\n",
    "import seaborn as sns\n",
    "sns.set(color_codes=True)"
   ]
  },
  {
   "cell_type": "code",
   "execution_count": 4,
   "metadata": {},
   "outputs": [],
   "source": [
    "engine=sqlite3.connect('stock_price_DB')"
   ]
  },
  {
   "cell_type": "code",
   "execution_count": 5,
   "metadata": {},
   "outputs": [],
   "source": [
    "# hp ge amd google"
   ]
  },
  {
   "cell_type": "markdown",
   "metadata": {},
   "source": [
    "###### Select stock data and convert to ndarray\n",
    "* Set `date` as index\n",
    "* drop NaN items"
   ]
  },
  {
   "cell_type": "markdown",
   "metadata": {},
   "source": [
    "**AMD**"
   ]
  },
  {
   "cell_type": "code",
   "execution_count": 6,
   "metadata": {},
   "outputs": [],
   "source": [
    "amd_df=pd.read_sql_query('select * from amd', engine).dropna()\n",
    "data_df=amd_df.astype('float')\n",
    "data_array=amd_df.values"
   ]
  },
  {
   "cell_type": "code",
   "execution_count": 7,
   "metadata": {},
   "outputs": [
    {
     "data": {
      "text/html": [
       "<div>\n",
       "<style scoped>\n",
       "    .dataframe tbody tr th:only-of-type {\n",
       "        vertical-align: middle;\n",
       "    }\n",
       "\n",
       "    .dataframe tbody tr th {\n",
       "        vertical-align: top;\n",
       "    }\n",
       "\n",
       "    .dataframe thead th {\n",
       "        text-align: right;\n",
       "    }\n",
       "</style>\n",
       "<table border=\"1\" class=\"dataframe\">\n",
       "  <thead>\n",
       "    <tr style=\"text-align: right;\">\n",
       "      <th></th>\n",
       "      <th>open</th>\n",
       "      <th>high</th>\n",
       "      <th>low</th>\n",
       "      <th>close</th>\n",
       "      <th>adj_close</th>\n",
       "      <th>volume</th>\n",
       "      <th>adx</th>\n",
       "      <th>adxr</th>\n",
       "      <th>apo</th>\n",
       "      <th>aroon_up</th>\n",
       "      <th>...</th>\n",
       "      <th>spinning_top</th>\n",
       "      <th>stalled_pattern</th>\n",
       "      <th>stick_sandwich</th>\n",
       "      <th>takuri</th>\n",
       "      <th>tasuki_gap</th>\n",
       "      <th>thrusting</th>\n",
       "      <th>tri_star</th>\n",
       "      <th>unique_three_river</th>\n",
       "      <th>xside_three_methods</th>\n",
       "      <th>trend</th>\n",
       "    </tr>\n",
       "  </thead>\n",
       "  <tbody>\n",
       "    <tr>\n",
       "      <th>88</th>\n",
       "      <td>5.87</td>\n",
       "      <td>6.06</td>\n",
       "      <td>5.79</td>\n",
       "      <td>5.94</td>\n",
       "      <td>5.94</td>\n",
       "      <td>20247100</td>\n",
       "      <td>49.269213</td>\n",
       "      <td>42.897807</td>\n",
       "      <td>0.735513</td>\n",
       "      <td>0.0</td>\n",
       "      <td>...</td>\n",
       "      <td>100</td>\n",
       "      <td>0</td>\n",
       "      <td>0</td>\n",
       "      <td>0</td>\n",
       "      <td>0</td>\n",
       "      <td>0</td>\n",
       "      <td>0</td>\n",
       "      <td>0</td>\n",
       "      <td>0</td>\n",
       "      <td>0.0</td>\n",
       "    </tr>\n",
       "    <tr>\n",
       "      <th>89</th>\n",
       "      <td>5.85</td>\n",
       "      <td>6.10</td>\n",
       "      <td>5.72</td>\n",
       "      <td>5.78</td>\n",
       "      <td>5.78</td>\n",
       "      <td>31086500</td>\n",
       "      <td>48.163275</td>\n",
       "      <td>43.712058</td>\n",
       "      <td>0.663846</td>\n",
       "      <td>0.0</td>\n",
       "      <td>...</td>\n",
       "      <td>0</td>\n",
       "      <td>0</td>\n",
       "      <td>0</td>\n",
       "      <td>0</td>\n",
       "      <td>0</td>\n",
       "      <td>0</td>\n",
       "      <td>0</td>\n",
       "      <td>0</td>\n",
       "      <td>0</td>\n",
       "      <td>0.0</td>\n",
       "    </tr>\n",
       "    <tr>\n",
       "      <th>90</th>\n",
       "      <td>5.80</td>\n",
       "      <td>5.85</td>\n",
       "      <td>5.59</td>\n",
       "      <td>5.66</td>\n",
       "      <td>5.66</td>\n",
       "      <td>37557200</td>\n",
       "      <td>46.558331</td>\n",
       "      <td>44.306165</td>\n",
       "      <td>0.595000</td>\n",
       "      <td>8.0</td>\n",
       "      <td>...</td>\n",
       "      <td>0</td>\n",
       "      <td>0</td>\n",
       "      <td>0</td>\n",
       "      <td>0</td>\n",
       "      <td>0</td>\n",
       "      <td>0</td>\n",
       "      <td>0</td>\n",
       "      <td>0</td>\n",
       "      <td>0</td>\n",
       "      <td>0.0</td>\n",
       "    </tr>\n",
       "    <tr>\n",
       "      <th>91</th>\n",
       "      <td>5.62</td>\n",
       "      <td>5.65</td>\n",
       "      <td>5.27</td>\n",
       "      <td>5.39</td>\n",
       "      <td>5.39</td>\n",
       "      <td>42759500</td>\n",
       "      <td>43.827405</td>\n",
       "      <td>44.249098</td>\n",
       "      <td>0.501474</td>\n",
       "      <td>4.0</td>\n",
       "      <td>...</td>\n",
       "      <td>0</td>\n",
       "      <td>0</td>\n",
       "      <td>0</td>\n",
       "      <td>0</td>\n",
       "      <td>0</td>\n",
       "      <td>0</td>\n",
       "      <td>0</td>\n",
       "      <td>0</td>\n",
       "      <td>0</td>\n",
       "      <td>0.0</td>\n",
       "    </tr>\n",
       "    <tr>\n",
       "      <th>92</th>\n",
       "      <td>5.22</td>\n",
       "      <td>5.45</td>\n",
       "      <td>5.05</td>\n",
       "      <td>5.31</td>\n",
       "      <td>5.31</td>\n",
       "      <td>31821800</td>\n",
       "      <td>40.820347</td>\n",
       "      <td>44.020791</td>\n",
       "      <td>0.421731</td>\n",
       "      <td>0.0</td>\n",
       "      <td>...</td>\n",
       "      <td>100</td>\n",
       "      <td>0</td>\n",
       "      <td>0</td>\n",
       "      <td>0</td>\n",
       "      <td>0</td>\n",
       "      <td>0</td>\n",
       "      <td>0</td>\n",
       "      <td>0</td>\n",
       "      <td>0</td>\n",
       "      <td>1.0</td>\n",
       "    </tr>\n",
       "  </tbody>\n",
       "</table>\n",
       "<p>5 rows × 122 columns</p>\n",
       "</div>"
      ],
      "text/plain": [
       "    open  high   low  close  adj_close    volume        adx       adxr  \\\n",
       "88  5.87  6.06  5.79   5.94       5.94  20247100  49.269213  42.897807   \n",
       "89  5.85  6.10  5.72   5.78       5.78  31086500  48.163275  43.712058   \n",
       "90  5.80  5.85  5.59   5.66       5.66  37557200  46.558331  44.306165   \n",
       "91  5.62  5.65  5.27   5.39       5.39  42759500  43.827405  44.249098   \n",
       "92  5.22  5.45  5.05   5.31       5.31  31821800  40.820347  44.020791   \n",
       "\n",
       "         apo  aroon_up  ...  spinning_top  stalled_pattern  stick_sandwich  \\\n",
       "88  0.735513       0.0  ...           100                0               0   \n",
       "89  0.663846       0.0  ...             0                0               0   \n",
       "90  0.595000       8.0  ...             0                0               0   \n",
       "91  0.501474       4.0  ...             0                0               0   \n",
       "92  0.421731       0.0  ...           100                0               0   \n",
       "\n",
       "    takuri  tasuki_gap  thrusting  tri_star  unique_three_river  \\\n",
       "88       0           0          0         0                   0   \n",
       "89       0           0          0         0                   0   \n",
       "90       0           0          0         0                   0   \n",
       "91       0           0          0         0                   0   \n",
       "92       0           0          0         0                   0   \n",
       "\n",
       "    xside_three_methods  trend  \n",
       "88                    0    0.0  \n",
       "89                    0    0.0  \n",
       "90                    0    0.0  \n",
       "91                    0    0.0  \n",
       "92                    0    1.0  \n",
       "\n",
       "[5 rows x 122 columns]"
      ]
     },
     "execution_count": 7,
     "metadata": {},
     "output_type": "execute_result"
    }
   ],
   "source": [
    "amd_df.head()"
   ]
  },
  {
   "cell_type": "markdown",
   "metadata": {},
   "source": [
    "**Google**"
   ]
  },
  {
   "cell_type": "code",
   "execution_count": 19,
   "metadata": {},
   "outputs": [],
   "source": [
    "google_df=pd.read_sql_query('select * from google', engine).set_index('date').dropna()\n",
    "data_df=google_df.astype('float')\n",
    "data_array=google_df.values"
   ]
  },
  {
   "cell_type": "markdown",
   "metadata": {},
   "source": [
    "**GE**"
   ]
  },
  {
   "cell_type": "code",
   "execution_count": 9,
   "metadata": {},
   "outputs": [],
   "source": [
    "ge_df=pd.read_sql_query('select * from ge', engine).set_index('date').dropna()\n",
    "data_df=ge_df.astype('float')\n",
    "data_array=ge_df.values"
   ]
  },
  {
   "cell_type": "markdown",
   "metadata": {},
   "source": [
    "**HPQ**"
   ]
  },
  {
   "cell_type": "code",
   "execution_count": 10,
   "metadata": {},
   "outputs": [],
   "source": [
    "hpq_df=pd.read_sql_query('select * from hpq', engine).set_index('date').dropna()\n",
    "data_df=hpq_df.copy()\n",
    "# data_df=ibm_df.drop(columns='date').dropna().astype('float')\n",
    "data_array=hpq_df.values"
   ]
  },
  {
   "cell_type": "code",
   "execution_count": 11,
   "metadata": {},
   "outputs": [
    {
     "data": {
      "text/html": [
       "<div>\n",
       "<style scoped>\n",
       "    .dataframe tbody tr th:only-of-type {\n",
       "        vertical-align: middle;\n",
       "    }\n",
       "\n",
       "    .dataframe tbody tr th {\n",
       "        vertical-align: top;\n",
       "    }\n",
       "\n",
       "    .dataframe thead th {\n",
       "        text-align: right;\n",
       "    }\n",
       "</style>\n",
       "<table border=\"1\" class=\"dataframe\">\n",
       "  <thead>\n",
       "    <tr style=\"text-align: right;\">\n",
       "      <th></th>\n",
       "      <th>open</th>\n",
       "      <th>high</th>\n",
       "      <th>low</th>\n",
       "      <th>close</th>\n",
       "      <th>volume</th>\n",
       "      <th>adx</th>\n",
       "      <th>adxr</th>\n",
       "      <th>apo</th>\n",
       "      <th>aroon_up</th>\n",
       "      <th>aroon_dn</th>\n",
       "      <th>...</th>\n",
       "      <th>stalled_pattern</th>\n",
       "      <th>stick_sandwich</th>\n",
       "      <th>takuri</th>\n",
       "      <th>tasuki_gap</th>\n",
       "      <th>thrusting</th>\n",
       "      <th>tri_star</th>\n",
       "      <th>unique_three_river</th>\n",
       "      <th>upside_gap_two_crows</th>\n",
       "      <th>xside_three_methods</th>\n",
       "      <th>trend</th>\n",
       "    </tr>\n",
       "    <tr>\n",
       "      <th>date</th>\n",
       "      <th></th>\n",
       "      <th></th>\n",
       "      <th></th>\n",
       "      <th></th>\n",
       "      <th></th>\n",
       "      <th></th>\n",
       "      <th></th>\n",
       "      <th></th>\n",
       "      <th></th>\n",
       "      <th></th>\n",
       "      <th></th>\n",
       "      <th></th>\n",
       "      <th></th>\n",
       "      <th></th>\n",
       "      <th></th>\n",
       "      <th></th>\n",
       "      <th></th>\n",
       "      <th></th>\n",
       "      <th></th>\n",
       "      <th></th>\n",
       "      <th></th>\n",
       "    </tr>\n",
       "  </thead>\n",
       "  <tbody>\n",
       "    <tr>\n",
       "      <th>1970-05-08 00:00:00</th>\n",
       "      <td>0.21049</td>\n",
       "      <td>0.21437</td>\n",
       "      <td>0.20280</td>\n",
       "      <td>0.20676</td>\n",
       "      <td>3293845</td>\n",
       "      <td>25.373567</td>\n",
       "      <td>25.410834</td>\n",
       "      <td>-0.009828</td>\n",
       "      <td>100.0</td>\n",
       "      <td>0.0</td>\n",
       "      <td>...</td>\n",
       "      <td>0</td>\n",
       "      <td>0</td>\n",
       "      <td>0</td>\n",
       "      <td>0</td>\n",
       "      <td>0</td>\n",
       "      <td>0</td>\n",
       "      <td>0</td>\n",
       "      <td>0</td>\n",
       "      <td>0</td>\n",
       "      <td>1.0</td>\n",
       "    </tr>\n",
       "    <tr>\n",
       "      <th>1970-05-11 00:00:00</th>\n",
       "      <td>0.20676</td>\n",
       "      <td>0.21049</td>\n",
       "      <td>0.20676</td>\n",
       "      <td>0.20676</td>\n",
       "      <td>3076491</td>\n",
       "      <td>26.104126</td>\n",
       "      <td>26.448963</td>\n",
       "      <td>-0.009387</td>\n",
       "      <td>96.0</td>\n",
       "      <td>0.0</td>\n",
       "      <td>...</td>\n",
       "      <td>0</td>\n",
       "      <td>0</td>\n",
       "      <td>0</td>\n",
       "      <td>0</td>\n",
       "      <td>0</td>\n",
       "      <td>0</td>\n",
       "      <td>0</td>\n",
       "      <td>0</td>\n",
       "      <td>0</td>\n",
       "      <td>0.0</td>\n",
       "    </tr>\n",
       "    <tr>\n",
       "      <th>1970-05-12 00:00:00</th>\n",
       "      <td>0.20676</td>\n",
       "      <td>0.20676</td>\n",
       "      <td>0.20280</td>\n",
       "      <td>0.20280</td>\n",
       "      <td>5049455</td>\n",
       "      <td>27.045858</td>\n",
       "      <td>27.673730</td>\n",
       "      <td>-0.010502</td>\n",
       "      <td>100.0</td>\n",
       "      <td>24.0</td>\n",
       "      <td>...</td>\n",
       "      <td>0</td>\n",
       "      <td>0</td>\n",
       "      <td>0</td>\n",
       "      <td>0</td>\n",
       "      <td>0</td>\n",
       "      <td>0</td>\n",
       "      <td>0</td>\n",
       "      <td>0</td>\n",
       "      <td>0</td>\n",
       "      <td>0.0</td>\n",
       "    </tr>\n",
       "    <tr>\n",
       "      <th>1970-05-13 00:00:00</th>\n",
       "      <td>0.19908</td>\n",
       "      <td>0.19908</td>\n",
       "      <td>0.19516</td>\n",
       "      <td>0.19516</td>\n",
       "      <td>3444327</td>\n",
       "      <td>28.381329</td>\n",
       "      <td>28.691552</td>\n",
       "      <td>-0.011772</td>\n",
       "      <td>100.0</td>\n",
       "      <td>20.0</td>\n",
       "      <td>...</td>\n",
       "      <td>0</td>\n",
       "      <td>0</td>\n",
       "      <td>0</td>\n",
       "      <td>0</td>\n",
       "      <td>0</td>\n",
       "      <td>0</td>\n",
       "      <td>0</td>\n",
       "      <td>0</td>\n",
       "      <td>0</td>\n",
       "      <td>1.0</td>\n",
       "    </tr>\n",
       "    <tr>\n",
       "      <th>1970-05-14 00:00:00</th>\n",
       "      <td>0.19516</td>\n",
       "      <td>0.19908</td>\n",
       "      <td>0.18381</td>\n",
       "      <td>0.19908</td>\n",
       "      <td>8928500</td>\n",
       "      <td>30.184746</td>\n",
       "      <td>29.918340</td>\n",
       "      <td>-0.012723</td>\n",
       "      <td>100.0</td>\n",
       "      <td>16.0</td>\n",
       "      <td>...</td>\n",
       "      <td>0</td>\n",
       "      <td>0</td>\n",
       "      <td>0</td>\n",
       "      <td>0</td>\n",
       "      <td>0</td>\n",
       "      <td>0</td>\n",
       "      <td>0</td>\n",
       "      <td>0</td>\n",
       "      <td>0</td>\n",
       "      <td>1.0</td>\n",
       "    </tr>\n",
       "  </tbody>\n",
       "</table>\n",
       "<p>5 rows × 123 columns</p>\n",
       "</div>"
      ],
      "text/plain": [
       "                        open     high      low    close   volume        adx  \\\n",
       "date                                                                          \n",
       "1970-05-08 00:00:00  0.21049  0.21437  0.20280  0.20676  3293845  25.373567   \n",
       "1970-05-11 00:00:00  0.20676  0.21049  0.20676  0.20676  3076491  26.104126   \n",
       "1970-05-12 00:00:00  0.20676  0.20676  0.20280  0.20280  5049455  27.045858   \n",
       "1970-05-13 00:00:00  0.19908  0.19908  0.19516  0.19516  3444327  28.381329   \n",
       "1970-05-14 00:00:00  0.19516  0.19908  0.18381  0.19908  8928500  30.184746   \n",
       "\n",
       "                          adxr       apo  aroon_up  aroon_dn  ...  \\\n",
       "date                                                          ...   \n",
       "1970-05-08 00:00:00  25.410834 -0.009828     100.0       0.0  ...   \n",
       "1970-05-11 00:00:00  26.448963 -0.009387      96.0       0.0  ...   \n",
       "1970-05-12 00:00:00  27.673730 -0.010502     100.0      24.0  ...   \n",
       "1970-05-13 00:00:00  28.691552 -0.011772     100.0      20.0  ...   \n",
       "1970-05-14 00:00:00  29.918340 -0.012723     100.0      16.0  ...   \n",
       "\n",
       "                     stalled_pattern  stick_sandwich  takuri  tasuki_gap  \\\n",
       "date                                                                       \n",
       "1970-05-08 00:00:00                0               0       0           0   \n",
       "1970-05-11 00:00:00                0               0       0           0   \n",
       "1970-05-12 00:00:00                0               0       0           0   \n",
       "1970-05-13 00:00:00                0               0       0           0   \n",
       "1970-05-14 00:00:00                0               0       0           0   \n",
       "\n",
       "                     thrusting  tri_star  unique_three_river  \\\n",
       "date                                                           \n",
       "1970-05-08 00:00:00          0         0                   0   \n",
       "1970-05-11 00:00:00          0         0                   0   \n",
       "1970-05-12 00:00:00          0         0                   0   \n",
       "1970-05-13 00:00:00          0         0                   0   \n",
       "1970-05-14 00:00:00          0         0                   0   \n",
       "\n",
       "                     upside_gap_two_crows  xside_three_methods  trend  \n",
       "date                                                                   \n",
       "1970-05-08 00:00:00                     0                    0    1.0  \n",
       "1970-05-11 00:00:00                     0                    0    0.0  \n",
       "1970-05-12 00:00:00                     0                    0    0.0  \n",
       "1970-05-13 00:00:00                     0                    0    1.0  \n",
       "1970-05-14 00:00:00                     0                    0    1.0  \n",
       "\n",
       "[5 rows x 123 columns]"
      ]
     },
     "execution_count": 11,
     "metadata": {},
     "output_type": "execute_result"
    }
   ],
   "source": [
    "data_df.head()"
   ]
  },
  {
   "cell_type": "markdown",
   "metadata": {},
   "source": [
    "### Further Feature Processing\n",
    "* Split Feature and Label\n",
    "* Normalization by std.scaler  $x_{std}=\\frac{x-\\mu}{\\sigma}$\n",
    "* PCA analysis\n",
    "\n",
    "#### Normalization"
   ]
  },
  {
   "cell_type": "code",
   "execution_count": 14,
   "metadata": {},
   "outputs": [],
   "source": [
    "X=data_df.values[:,:-1]\n",
    "y=data_df.values[:,-1].astype(int)\n",
    "sc = StandardScaler()\n",
    "X_std=sc.fit_transform(X)"
   ]
  },
  {
   "cell_type": "markdown",
   "metadata": {},
   "source": [
    "#### PCA Analysis"
   ]
  },
  {
   "cell_type": "code",
   "execution_count": 40,
   "metadata": {},
   "outputs": [
    {
     "name": "stdout",
     "output_type": "stream",
     "text": [
      "dimension with 98% reconstruction accuracy is= 76\n"
     ]
    }
   ],
   "source": [
    "from sklearn.decomposition import PCA\n",
    "pca=PCA()\n",
    "X_pca=pca.fit_transform(X_std)\n",
    "reconstruction_accuracy=np.cumsum(pca.explained_variance_ratio_)\n",
    "# number of principal componenets required to achieve 98% reconstruction accuracy\n",
    "d=min(np.where(reconstruction_accuracy>0.98)[0]) + 1 \n",
    "print('dimension with 98% reconstruction accuracy is=',d)\n",
    "X_pca=X_pca[:,:d+1]   # select first d principal components"
   ]
  },
  {
   "cell_type": "code",
   "execution_count": 24,
   "metadata": {},
   "outputs": [
    {
     "data": {
      "image/png": "[encoded data removed]",
      "text/plain": [
       "<Figure size 864x432 with 1 Axes>"
      ]
     },
     "metadata": {},
     "output_type": "display_data"
    }
   ],
   "source": [
    "fig=plt.figure(figsize=(12,6))\n",
    "plt.plot(reconstruction_accuracy,)\n",
    "plt.xlabel('number of components')\n",
    "plt.ylabel('cumulative explained variance');\n",
    "plt.title('Reconstruction Accuracy vs Number of Principal Components')\n",
    "plt.show()"
   ]
  },
  {
   "cell_type": "code",
   "execution_count": 25,
   "metadata": {},
   "outputs": [],
   "source": [
    "X_train, X_test, y_train, y_test = train_test_split(X_pca,y,test_size=0.3)"
   ]
  },
  {
   "cell_type": "code",
   "execution_count": 26,
   "metadata": {},
   "outputs": [
    {
     "data": {
      "text/plain": [
       "(8390, 77)"
      ]
     },
     "execution_count": 26,
     "metadata": {},
     "output_type": "execute_result"
    }
   ],
   "source": [
    "X_train.shape"
   ]
  },
  {
   "cell_type": "markdown",
   "metadata": {},
   "source": [
    "### XGBoost Model"
   ]
  },
  {
   "cell_type": "code",
   "execution_count": 30,
   "metadata": {},
   "outputs": [
    {
     "name": "stdout",
     "output_type": "stream",
     "text": [
      "acc_predict 0.5625695216907676\n",
      "acc_train 0.5541120381406436\n"
     ]
    }
   ],
   "source": [
    "# ------- parameter of other three stock\n",
    "# para_amd={'colsample_bytree': 0.8009662644666179, 'gamma': 0.3278613176903711, \n",
    "#        'learning_rate': 0.14561898628966952, 'max_depth': 3, 'n_estimators': 150, \n",
    "#        'subsample': 0.6093087742943303}\n",
    "# para_hpq={'colsample_bytree': 0.8542703315240834, 'gamma': 0.29620728443102123,\n",
    "#         'learning_rate': 0.043935123815999316, 'max_depth': 2, 'n_estimators': 150, \n",
    "#         'subsample': 0.8721230154351118}   # for ibm\n",
    "# para_ge={'colsample_bytree': 0.7160455890242107, 'gamma': 0.47927074844159917, \n",
    "#              'learning_rate': 0.28414294322867695, 'max_depth': 2, 'n_estimators': 160,\n",
    "#              'subsample': 0.9827203540505826}\n",
    "xgb_model_google=xgb.XGBClassifier(booster='gbtree', colsample_bylevel=0.9919031664257336,gamma=0.1965488623333802,\n",
    "                            learning_rate=0.17613966553134, max_depth=2, \n",
    "                            n_estimators=5,subsample=0.9179245214166594,n_jobs=8,\n",
    "                            nthread=16, objective='binary:logistic')\n",
    "xgb_model_google.fit(X_train, y_train)\n",
    "y_pred_tr = xgb_model_google.predict(X_train)\n",
    "y_pred_test = xgb_model_google.predict(X_test)\n",
    "print('acc_predict',accuracy_score(y_pred_test, y_test))\n",
    "print('acc_train',accuracy_score(y_pred_tr, y_train))"
   ]
  },
  {
   "cell_type": "markdown",
   "metadata": {},
   "source": [
    "#### Cross Validation"
   ]
  },
  {
   "cell_type": "code",
   "execution_count": 25,
   "metadata": {},
   "outputs": [
    {
     "name": "stderr",
     "output_type": "stream",
     "text": [
      "/home/josephkeecaoqi/anaconda3/lib/python3.7/site-packages/sklearn/model_selection/_split.py:2053: FutureWarning: You should specify a value for 'cv' instead of relying on the default value. The default value will change from 3 to 5 in version 0.22.\n",
      "  warnings.warn(CV_WARNING, FutureWarning)\n",
      "[Parallel(n_jobs=-1)]: Using backend LokyBackend with 16 concurrent workers.\n"
     ]
    },
    {
     "name": "stdout",
     "output_type": "stream",
     "text": [
      "Fitting 3 folds for each of 25 candidates, totalling 75 fits\n"
     ]
    },
    {
     "name": "stderr",
     "output_type": "stream",
     "text": [
      "[Parallel(n_jobs=-1)]: Done  70 out of  75 | elapsed:    7.8s remaining:    0.6s\n",
      "[Parallel(n_jobs=-1)]: Done  75 out of  75 | elapsed:    8.4s finished\n",
      "/home/josephkeecaoqi/anaconda3/lib/python3.7/site-packages/sklearn/model_selection/_split.py:2053: FutureWarning: You should specify a value for 'cv' instead of relying on the default value. The default value will change from 3 to 5 in version 0.22.\n",
      "  warnings.warn(CV_WARNING, FutureWarning)\n",
      "[Parallel(n_jobs=-1)]: Using backend LokyBackend with 16 concurrent workers.\n"
     ]
    },
    {
     "name": "stdout",
     "output_type": "stream",
     "text": [
      "Fitting 3 folds for each of 25 candidates, totalling 75 fits\n"
     ]
    },
    {
     "name": "stderr",
     "output_type": "stream",
     "text": [
      "[Parallel(n_jobs=-1)]: Done  70 out of  75 | elapsed:    8.3s remaining:    0.6s\n",
      "[Parallel(n_jobs=-1)]: Done  75 out of  75 | elapsed:    9.0s finished\n",
      "/home/josephkeecaoqi/anaconda3/lib/python3.7/site-packages/sklearn/model_selection/_split.py:2053: FutureWarning: You should specify a value for 'cv' instead of relying on the default value. The default value will change from 3 to 5 in version 0.22.\n",
      "  warnings.warn(CV_WARNING, FutureWarning)\n",
      "[Parallel(n_jobs=-1)]: Using backend LokyBackend with 16 concurrent workers.\n"
     ]
    },
    {
     "name": "stdout",
     "output_type": "stream",
     "text": [
      "Fitting 3 folds for each of 25 candidates, totalling 75 fits\n"
     ]
    },
    {
     "name": "stderr",
     "output_type": "stream",
     "text": [
      "[Parallel(n_jobs=-1)]: Done  70 out of  75 | elapsed:    9.5s remaining:    0.7s\n",
      "[Parallel(n_jobs=-1)]: Done  75 out of  75 | elapsed:    9.9s finished\n",
      "/home/josephkeecaoqi/anaconda3/lib/python3.7/site-packages/sklearn/model_selection/_split.py:2053: FutureWarning: You should specify a value for 'cv' instead of relying on the default value. The default value will change from 3 to 5 in version 0.22.\n",
      "  warnings.warn(CV_WARNING, FutureWarning)\n",
      "[Parallel(n_jobs=-1)]: Using backend LokyBackend with 16 concurrent workers.\n"
     ]
    },
    {
     "name": "stdout",
     "output_type": "stream",
     "text": [
      "Fitting 3 folds for each of 25 candidates, totalling 75 fits\n"
     ]
    },
    {
     "name": "stderr",
     "output_type": "stream",
     "text": [
      "[Parallel(n_jobs=-1)]: Done  70 out of  75 | elapsed:    8.8s remaining:    0.6s\n",
      "[Parallel(n_jobs=-1)]: Done  75 out of  75 | elapsed:    9.5s finished\n",
      "/home/josephkeecaoqi/anaconda3/lib/python3.7/site-packages/sklearn/model_selection/_split.py:2053: FutureWarning: You should specify a value for 'cv' instead of relying on the default value. The default value will change from 3 to 5 in version 0.22.\n",
      "  warnings.warn(CV_WARNING, FutureWarning)\n",
      "[Parallel(n_jobs=-1)]: Using backend LokyBackend with 16 concurrent workers.\n"
     ]
    },
    {
     "name": "stdout",
     "output_type": "stream",
     "text": [
      "Fitting 3 folds for each of 25 candidates, totalling 75 fits\n"
     ]
    },
    {
     "name": "stderr",
     "output_type": "stream",
     "text": [
      "[Parallel(n_jobs=-1)]: Done  70 out of  75 | elapsed:    9.4s remaining:    0.7s\n",
      "[Parallel(n_jobs=-1)]: Done  75 out of  75 | elapsed:   10.1s finished\n"
     ]
    }
   ],
   "source": [
    "from scipy import stats\n",
    "from sklearn.metrics import f1_score\n",
    "\n",
    "clf_xgb = xgb.XGBClassifier(objective = 'binary:logistic')\n",
    "param_dist = {'n_estimators': stats.randint(150, 500),\n",
    "              'learning_rate': stats.uniform(0.01, 0.07),\n",
    "              'subsample': stats.uniform(0.3, 0.7),\n",
    "              'max_depth': [3, 4, 5, 6, 7, 8, 9],\n",
    "              'colsample_bytree': stats.uniform(0.5, 0.45),\n",
    "              'min_child_weight': [1, 2, 3]\n",
    "             }\n",
    "clf = RandomizedSearchCV(clf_xgb, param_distributions = param_dist, n_iter = 25, scoring = 'f1', error_score = 0, verbose = 3, n_jobs = -1)\n",
    "\n",
    "numFolds = 5\n",
    "folds = KFold(n_splits=5, shuffle = True)\n",
    "\n",
    "estimators = []\n",
    "results = np.zeros(len(X))\n",
    "score = 0.0\n",
    "for train_index, test_index in folds.split(X):\n",
    "    X_train, X_test = X_pca[train_index], X_pca[test_index]\n",
    "    y_train, y_test = y[train_index], y[test_index]\n",
    "    clf.fit(X_train, y_train)\n",
    "    estimators.append(clf.best_estimator_)\n",
    "    results[test_index] = clf.predict(X_test)\n",
    "    score += f1_score(y_test, results[test_index])\n",
    "score /= numFolds\n"
   ]
  }
 ],
 "metadata": {
  "kernelspec": {
   "display_name": "Python 3",
   "language": "python",
   "name": "python3"
  },
  "toc": {
   "base_numbering": 1,
   "nav_menu": {},
   "number_sections": true,
   "sideBar": true,
   "skip_h1_title": true,
   "title_cell": "Table of Contents",
   "title_sidebar": "Contents",
   "toc_cell": false,
   "toc_position": {},
   "toc_section_display": true,
   "toc_window_display": true
  }
 },
 "nbformat": 4,
 "nbformat_minor": 2
}
